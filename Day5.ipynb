{
 "cells": [
  {
   "cell_type": "code",
   "execution_count": 1,
   "metadata": {},
   "outputs": [
    {
     "name": "stdout",
     "output_type": "stream",
     "text": [
      "['name1', 'name2', 'name3', 'name4', 'name5']\n"
     ]
    }
   ],
   "source": [
    "students = ['name1', 'name2', 'name3', 'name4', 'name5']\n",
    "print (students)"
   ]
  },
  {
   "cell_type": "code",
   "execution_count": 2,
   "metadata": {},
   "outputs": [
    {
     "data": {
      "text/plain": [
       "list"
      ]
     },
     "execution_count": 2,
     "metadata": {},
     "output_type": "execute_result"
    }
   ],
   "source": [
    "type (students)"
   ]
  },
  {
   "cell_type": "code",
   "execution_count": null,
   "metadata": {},
   "outputs": [],
   "source": [
    "# Appreciate Students"
   ]
  },
  {
   "cell_type": "code",
   "execution_count": 5,
   "metadata": {},
   "outputs": [
    {
     "name": "stdout",
     "output_type": "stream",
     "text": [
      "Keep up the good work Name1\n"
     ]
    }
   ],
   "source": [
    "print (f\"Keep up the good work {students [0].title()}\")"
   ]
  },
  {
   "cell_type": "code",
   "execution_count": 6,
   "metadata": {},
   "outputs": [
    {
     "name": "stdout",
     "output_type": "stream",
     "text": [
      "Keep up the good work Name2\n"
     ]
    }
   ],
   "source": [
    "print (f\"Keep up the good work {students [1].title()}\")"
   ]
  },
  {
   "cell_type": "code",
   "execution_count": 7,
   "metadata": {},
   "outputs": [
    {
     "name": "stdout",
     "output_type": "stream",
     "text": [
      "Keep up the good work Name3\n"
     ]
    }
   ],
   "source": [
    "print (f\"Keep up the good work {students [2].title()}\")"
   ]
  },
  {
   "cell_type": "code",
   "execution_count": null,
   "metadata": {},
   "outputs": [],
   "source": [
    "Introduction to For Loop\n",
    "General Syntax----> \"For Tempvar in mainvar\"\n",
    "print (tempvar)\n",
    "tempvar--It can be anyname\n",
    "mainvar---> students\n",
    "\n",
    "gap is called Indentation\n",
    "indentation is mandatory in 'for loop'"
   ]
  },
  {
   "cell_type": "code",
   "execution_count": 1,
   "metadata": {},
   "outputs": [
    {
     "name": "stdout",
     "output_type": "stream",
     "text": [
      "Keep up the good work, Name1\n",
      "Keep up the good work, Name2\n",
      "Keep up the good work, Name3\n",
      "Keep up the good work, Name4\n",
      "Keep up the good work, Name5\n"
     ]
    }
   ],
   "source": [
    "students = ['name1', 'name2', 'name3', 'name4', 'name5']\n",
    "for X in students:\n",
    " print (f\"Keep up the good work, {X.title()}\")"
   ]
  },
  {
   "cell_type": "code",
   "execution_count": 3,
   "metadata": {},
   "outputs": [
    {
     "name": "stdout",
     "output_type": "stream",
     "text": [
      "Keep up the good work, name1\n",
      "Keep up the good work, name2\n",
      "Keep up the good work, name3\n",
      "Keep up the good work, name4\n",
      "Keep up the good work, name5\n"
     ]
    }
   ],
   "source": [
    "for ironman in students:\n",
    " print (f\"Keep up the good work, {ironman}\")"
   ]
  },
  {
   "cell_type": "code",
   "execution_count": null,
   "metadata": {},
   "outputs": [],
   "source": [
    "Enhancement of the Code"
   ]
  },
  {
   "cell_type": "code",
   "execution_count": null,
   "metadata": {},
   "outputs": [],
   "source": [
    "Writing in the loop---> It will be applied to all elements in the loop"
   ]
  },
  {
   "cell_type": "code",
   "execution_count": 5,
   "metadata": {},
   "outputs": [
    {
     "name": "stdout",
     "output_type": "stream",
     "text": [
      "Keep up the good work, Name1\n",
      "Keep up the good work, Name2\n",
      "Keep up the good work, Name3\n",
      "Keep up the good work, Name4\n",
      "Keep up the good work, Name5\n"
     ]
    }
   ],
   "source": [
    "for y in students:\n",
    "    print (f\"Keep up the good work, {y. title ()}\")"
   ]
  },
  {
   "cell_type": "code",
   "execution_count": 6,
   "metadata": {},
   "outputs": [
    {
     "name": "stdout",
     "output_type": "stream",
     "text": [
      "Keep up the good work, Name1\n",
      "I will be looking forward to receive the practise file of today, Name1\n",
      "Keep up the good work, Name2\n",
      "I will be looking forward to receive the practise file of today, Name2\n",
      "Keep up the good work, Name3\n",
      "I will be looking forward to receive the practise file of today, Name3\n",
      "Keep up the good work, Name4\n",
      "I will be looking forward to receive the practise file of today, Name4\n",
      "Keep up the good work, Name5\n",
      "I will be looking forward to receive the practise file of today, Name5\n"
     ]
    }
   ],
   "source": [
    "for y in students:\n",
    "    print (f\"Keep up the good work, {y. title ()}\")\n",
    "    print (f\"I will be looking forward to receive the practise file of today, {y.title()}\")"
   ]
  },
  {
   "cell_type": "code",
   "execution_count": 10,
   "metadata": {},
   "outputs": [
    {
     "name": "stdout",
     "output_type": "stream",
     "text": [
      "Keep up the good work, Name1\n",
      "I will be looking forward to receive the practise file of today, Name1\n",
      "\n",
      "Keep up the good work, Name2\n",
      "I will be looking forward to receive the practise file of today, Name2\n",
      "\n",
      "Keep up the good work, Name3\n",
      "I will be looking forward to receive the practise file of today, Name3\n",
      "\n",
      "Keep up the good work, Name4\n",
      "I will be looking forward to receive the practise file of today, Name4\n",
      "\n",
      "Keep up the good work, Name5\n",
      "I will be looking forward to receive the practise file of today, Name5\n",
      "\n"
     ]
    }
   ],
   "source": [
    "for y in students:\n",
    "    print (f\"Keep up the good work, {y. title ()}\")\n",
    "    print (f\"I will be looking forward to receive the practise file of today, {y.title()}\\n\")"
   ]
  },
  {
   "cell_type": "code",
   "execution_count": null,
   "metadata": {},
   "outputs": [],
   "source": [
    "Writing out of the loop---> It will be repeated only once"
   ]
  },
  {
   "cell_type": "code",
   "execution_count": 18,
   "metadata": {},
   "outputs": [
    {
     "name": "stdout",
     "output_type": "stream",
     "text": [
      "Keep up the good work, Name1\n",
      "I will be looking forward to receive the practise file of today, Name1\n",
      "\n",
      "Keep up the good work, Name2\n",
      "I will be looking forward to receive the practise file of today, Name2\n",
      "\n",
      "Keep up the good work, Name3\n",
      "I will be looking forward to receive the practise file of today, Name3\n",
      "\n",
      "Keep up the good work, Name4\n",
      "I will be looking forward to receive the practise file of today, Name4\n",
      "\n",
      "Keep up the good work, Name5\n",
      "I will be looking forward to receive the practise file of today, Name5\n",
      "\n",
      "Thank You all for showing interest in Python\n"
     ]
    }
   ],
   "source": [
    "for y in students:\n",
    "    print (f\"Keep up the good work, {y. title ()}\")\n",
    "    print (f\"I will be looking forward to receive the practise file of today, {y.title()}\\n\")\n",
    "    \n",
    "print (\"Thank You all for showing interest in Python\")"
   ]
  },
  {
   "cell_type": "code",
   "execution_count": 19,
   "metadata": {},
   "outputs": [
    {
     "ename": "IndentationError",
     "evalue": "expected an indented block (<ipython-input-19-953835889ecc>, line 2)",
     "output_type": "error",
     "traceback": [
      "\u001b[1;36m  File \u001b[1;32m\"<ipython-input-19-953835889ecc>\"\u001b[1;36m, line \u001b[1;32m2\u001b[0m\n\u001b[1;33m    print (f\"Keep up the good work, {y. title ()}\")\u001b[0m\n\u001b[1;37m    ^\u001b[0m\n\u001b[1;31mIndentationError\u001b[0m\u001b[1;31m:\u001b[0m expected an indented block\n"
     ]
    }
   ],
   "source": [
    "for y in students:\n",
    "print (f\"Keep up the good work, {y. title ()}\")"
   ]
  },
  {
   "cell_type": "code",
   "execution_count": null,
   "metadata": {},
   "outputs": [],
   "source": [
    "Question: Is it mandatory to give indentation in \"For Loop\"----> YES"
   ]
  }
 ],
 "metadata": {
  "kernelspec": {
   "display_name": "Python 3",
   "language": "python",
   "name": "python3"
  },
  "language_info": {
   "codemirror_mode": {
    "name": "ipython",
    "version": 3
   },
   "file_extension": ".py",
   "mimetype": "text/x-python",
   "name": "python",
   "nbconvert_exporter": "python",
   "pygments_lexer": "ipython3",
   "version": "3.8.5"
  }
 },
 "nbformat": 4,
 "nbformat_minor": 4
}
