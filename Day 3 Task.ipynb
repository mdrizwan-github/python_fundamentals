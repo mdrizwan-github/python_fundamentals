{
 "cells": [
  {
   "cell_type": "code",
   "execution_count": null,
   "metadata": {},
   "outputs": [],
   "source": [
    "Continuation with Strings"
   ]
  },
  {
   "cell_type": "code",
   "execution_count": 2,
   "metadata": {},
   "outputs": [
    {
     "name": "stdout",
     "output_type": "stream",
     "text": [
      "mohammed rizwan\n"
     ]
    }
   ],
   "source": [
    "fullname = 'mohammed rizwan'\n",
    "print (fullname)"
   ]
  },
  {
   "cell_type": "code",
   "execution_count": 3,
   "metadata": {},
   "outputs": [
    {
     "name": "stdout",
     "output_type": "stream",
     "text": [
      "Mohammed Rizwan\n"
     ]
    }
   ],
   "source": [
    "print (fullname.title()) ----> title ()"
   ]
  },
  {
   "cell_type": "code",
   "execution_count": 4,
   "metadata": {},
   "outputs": [
    {
     "name": "stdout",
     "output_type": "stream",
     "text": [
      "MOHAMMED RIZWAN\n"
     ]
    }
   ],
   "source": [
    "print (fullname.upper ())----> Upper()"
   ]
  },
  {
   "cell_type": "code",
   "execution_count": 5,
   "metadata": {},
   "outputs": [
    {
     "name": "stdout",
     "output_type": "stream",
     "text": [
      "mohammed rizwan\n"
     ]
    }
   ],
   "source": [
    "print (fullname.lower())----> lower ()"
   ]
  },
  {
   "cell_type": "code",
   "execution_count": null,
   "metadata": {},
   "outputs": [],
   "source": [
    "Introduction to f strings\n",
    "\n",
    "General syntax of f strings\n",
    "\n",
    "f\" Custom Words {placeholder1}{placeholder2}....{placeholdern}\""
   ]
  },
  {
   "cell_type": "code",
   "execution_count": 7,
   "metadata": {},
   "outputs": [
    {
     "name": "stdout",
     "output_type": "stream",
     "text": [
      "Mohammed Rizwan\n"
     ]
    }
   ],
   "source": [
    "firstname = 'Mohammed'\n",
    "lastname = 'Rizwan'\n",
    "Fullname = f\"{firstname} {lastname}\"\n",
    "print (Fullname)"
   ]
  },
  {
   "cell_type": "code",
   "execution_count": 8,
   "metadata": {},
   "outputs": [
    {
     "name": "stdout",
     "output_type": "stream",
     "text": [
      "Mohammed Rizwan\n"
     ]
    }
   ],
   "source": [
    "print (Fullname.title())"
   ]
  },
  {
   "cell_type": "code",
   "execution_count": 10,
   "metadata": {},
   "outputs": [
    {
     "name": "stdout",
     "output_type": "stream",
     "text": [
      "Keep up the good work, Mohammed Rizwan\n"
     ]
    }
   ],
   "source": [
    "Message = f\"Keep up the good work, {firstname} {lastname}\"\n",
    "print (Message)"
   ]
  },
  {
   "cell_type": "code",
   "execution_count": 11,
   "metadata": {},
   "outputs": [
    {
     "ename": "SyntaxError",
     "evalue": "invalid syntax (<ipython-input-11-4a6f93e5e5f5>, line 1)",
     "output_type": "error",
     "traceback": [
      "\u001b[1;36m  File \u001b[1;32m\"<ipython-input-11-4a6f93e5e5f5>\"\u001b[1;36m, line \u001b[1;32m1\u001b[0m\n\u001b[1;33m    Adding Whitespaces to Strings\u001b[0m\n\u001b[1;37m           ^\u001b[0m\n\u001b[1;31mSyntaxError\u001b[0m\u001b[1;31m:\u001b[0m invalid syntax\n"
     ]
    }
   ],
   "source": [
    "Adding Whitespaces to Strings\n",
    "\n",
    "#Conducting survey among group of students tofind out their favorite language\n",
    "\n",
    "print ('Fav_Programming: PythonC++javaCCobalswift')"
   ]
  },
  {
   "cell_type": "code",
   "execution_count": 12,
   "metadata": {},
   "outputs": [
    {
     "name": "stdout",
     "output_type": "stream",
     "text": [
      "Fav_Programming: PythonC++javaCCobalswift\n"
     ]
    }
   ],
   "source": [
    "print ('Fav_Programming: PythonC++javaCCobalswift')"
   ]
  },
  {
   "cell_type": "code",
   "execution_count": 13,
   "metadata": {},
   "outputs": [
    {
     "name": "stdout",
     "output_type": "stream",
     "text": [
      "Fav_Programming: \n",
      "Python\n",
      "C++\n",
      "java\n",
      "C\n",
      "Cobal\n",
      "swift\n"
     ]
    }
   ],
   "source": [
    "print ('Fav_Programming: \\nPython\\nC++\\njava\\nC\\nCobal\\nswift')"
   ]
  },
  {
   "cell_type": "code",
   "execution_count": 17,
   "metadata": {},
   "outputs": [
    {
     "name": "stdout",
     "output_type": "stream",
     "text": [
      "Fav_Programming: \n",
      "\tPython\n",
      "\tC++\n",
      "\tjava\n",
      "\tC\n",
      "\tCobal\n",
      "\tswift\n"
     ]
    }
   ],
   "source": [
    "print ('Fav_Programming: \\n\\tPython\\n\\tC++\\n\\tjava\\n\\tC\\n\\tCobal\\n\\tswift')"
   ]
  },
  {
   "cell_type": "code",
   "execution_count": null,
   "metadata": {},
   "outputs": [],
   "source": [
    "Removing whitespaces from strings"
   ]
  },
  {
   "cell_type": "code",
   "execution_count": 18,
   "metadata": {},
   "outputs": [
    {
     "name": "stdout",
     "output_type": "stream",
     "text": [
      "   Shaik\n"
     ]
    }
   ],
   "source": [
    "name1 = \"   Shaik\"\n",
    "print (name1)"
   ]
  },
  {
   "cell_type": "code",
   "execution_count": 19,
   "metadata": {},
   "outputs": [
    {
     "name": "stdout",
     "output_type": "stream",
     "text": [
      "Mohammed   \n"
     ]
    }
   ],
   "source": [
    "name2 = \"Mohammed   \"\n",
    "print (name2)"
   ]
  },
  {
   "cell_type": "code",
   "execution_count": 21,
   "metadata": {},
   "outputs": [
    {
     "name": "stdout",
     "output_type": "stream",
     "text": [
      "  Rizwan  \n"
     ]
    }
   ],
   "source": [
    "name3 = \"  Rizwan  \"\n",
    "print (name3)"
   ]
  },
  {
   "cell_type": "code",
   "execution_count": 22,
   "metadata": {},
   "outputs": [
    {
     "name": "stdout",
     "output_type": "stream",
     "text": [
      "Shaik\n"
     ]
    }
   ],
   "source": [
    "print (name1.lstrip())"
   ]
  },
  {
   "cell_type": "code",
   "execution_count": 23,
   "metadata": {},
   "outputs": [
    {
     "name": "stdout",
     "output_type": "stream",
     "text": [
      "Mohammed\n"
     ]
    }
   ],
   "source": [
    "print (name2.rstrip())"
   ]
  },
  {
   "cell_type": "code",
   "execution_count": 26,
   "metadata": {},
   "outputs": [
    {
     "name": "stdout",
     "output_type": "stream",
     "text": [
      "Rizwan\n"
     ]
    }
   ],
   "source": [
    "print (name3.strip())"
   ]
  }
 ],
 "metadata": {
  "kernelspec": {
   "display_name": "Python 3",
   "language": "python",
   "name": "python3"
  },
  "language_info": {
   "codemirror_mode": {
    "name": "ipython",
    "version": 3
   },
   "file_extension": ".py",
   "mimetype": "text/x-python",
   "name": "python",
   "nbconvert_exporter": "python",
   "pygments_lexer": "ipython3",
   "version": "3.8.5"
  }
 },
 "nbformat": 4,
 "nbformat_minor": 4
}
