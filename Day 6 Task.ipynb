{
 "cells": [
  {
   "cell_type": "code",
   "execution_count": null,
   "metadata": {
    "collapsed": true
   },
   "outputs": [],
   "source": [
    "Continuation with LISTS"
   ]
  },
  {
   "cell_type": "code",
   "execution_count": null,
   "metadata": {},
   "outputs": [],
   "source": [
    "For loop implementation\n",
    "For tempvar in mainvar:\n",
    "    print (tempvar)"
   ]
  },
  {
   "cell_type": "code",
   "execution_count": null,
   "metadata": {},
   "outputs": [],
   "source": [
    "Understanding the Range function Usage\n",
    "range (startvalue, stopvalue, stepcount)"
   ]
  },
  {
   "cell_type": "code",
   "execution_count": null,
   "metadata": {},
   "outputs": [],
   "source": [
    "print numbers 1 to 20 by using range along with a for loop\n",
    "\n",
    "Note- lat value is always exclusive in range"
   ]
  },
  {
   "cell_type": "code",
   "execution_count": 2,
   "metadata": {},
   "outputs": [
    {
     "name": "stdout",
     "output_type": "stream",
     "text": [
      "1\n",
      "2\n",
      "3\n",
      "4\n",
      "5\n",
      "6\n",
      "7\n",
      "8\n",
      "9\n",
      "10\n",
      "11\n",
      "12\n",
      "13\n",
      "14\n",
      "15\n",
      "16\n",
      "17\n",
      "18\n",
      "19\n"
     ]
    }
   ],
   "source": [
    "for x in range (1,20):\n",
    "    print (x)"
   ]
  },
  {
   "cell_type": "code",
   "execution_count": null,
   "metadata": {},
   "outputs": [],
   "source": [
    "I want to print a list of numbers from 1 to 30"
   ]
  },
  {
   "cell_type": "code",
   "execution_count": 4,
   "metadata": {},
   "outputs": [
    {
     "name": "stdout",
     "output_type": "stream",
     "text": [
      "[1, 2, 3, 4, 5, 6, 7, 8, 9, 10, 11, 12, 13, 14, 15, 16, 17, 18, 19, 20, 21, 22, 23, 24, 25, 26, 27, 28, 29]\n"
     ]
    }
   ],
   "source": [
    "numbers = list (range (1,30))\n",
    "print (numbers)"
   ]
  },
  {
   "cell_type": "code",
   "execution_count": 6,
   "metadata": {},
   "outputs": [
    {
     "data": {
      "text/plain": [
       "list"
      ]
     },
     "execution_count": 6,
     "metadata": {},
     "output_type": "execute_result"
    }
   ],
   "source": [
    "type (numbers)"
   ]
  },
  {
   "cell_type": "code",
   "execution_count": 8,
   "metadata": {},
   "outputs": [
    {
     "data": {
      "text/plain": [
       "int"
      ]
     },
     "execution_count": 8,
     "metadata": {},
     "output_type": "execute_result"
    }
   ],
   "source": [
    "type (x)"
   ]
  },
  {
   "cell_type": "code",
   "execution_count": null,
   "metadata": {},
   "outputs": [],
   "source": [
    "I want to print only even numbers from 1-20"
   ]
  },
  {
   "cell_type": "code",
   "execution_count": 10,
   "metadata": {},
   "outputs": [
    {
     "name": "stdout",
     "output_type": "stream",
     "text": [
      "[2, 4, 6, 8, 10, 12, 14, 16, 18]\n"
     ]
    }
   ],
   "source": [
    "even_numbers = list (range(2,20,2))\n",
    "print (even_numbers)"
   ]
  },
  {
   "cell_type": "code",
   "execution_count": null,
   "metadata": {},
   "outputs": [],
   "source": [
    "I want to print only odd numbers from 1-20-----TASK FOR HOMEWORK"
   ]
  },
  {
   "cell_type": "code",
   "execution_count": 11,
   "metadata": {},
   "outputs": [
    {
     "name": "stdout",
     "output_type": "stream",
     "text": [
      "[1, 2, 3, 4, 5, 6, 7, 8, 9, 10, 11, 12, 13, 14, 15, 16, 17, 18, 19]\n"
     ]
    }
   ],
   "source": [
    "odd_numbers = list (range(1,20,1))\n",
    "print (odd_numbers)"
   ]
  },
  {
   "cell_type": "code",
   "execution_count": null,
   "metadata": {},
   "outputs": [],
   "source": [
    "Introduction to conditional statements\n",
    "If else conditions"
   ]
  },
  {
   "cell_type": "code",
   "execution_count": null,
   "metadata": {},
   "outputs": [],
   "source": [
    "Cars = ['Audi', 'BMW', 'Toyota', 'Benz', 'Maruthi']"
   ]
  },
  {
   "cell_type": "code",
   "execution_count": null,
   "metadata": {},
   "outputs": [],
   "source": [
    "Requirements\n",
    "Print list of cars by using a for loop but i want to print maruthi in capitals and remaining all others in title case"
   ]
  },
  {
   "cell_type": "code",
   "execution_count": 24,
   "metadata": {},
   "outputs": [
    {
     "name": "stdout",
     "output_type": "stream",
     "text": [
      "Audi\n",
      "Bmw\n",
      "Toyota\n",
      "Benz\n",
      "MARUTHI\n"
     ]
    }
   ],
   "source": [
    "Cars = ['Audi', 'BMW', 'Toyota', 'Benz', 'Maruthi']\n",
    "for x in Cars:\n",
    "    if x == 'Maruthi':\n",
    "       print (x.upper())\n",
    "    else:\n",
    "        print (x.title())"
   ]
  },
  {
   "cell_type": "code",
   "execution_count": null,
   "metadata": {},
   "outputs": [],
   "source": [
    "ENTRY TICKET FOR PARK\n",
    "\n",
    "For children o - 4 years its free  \n",
    "For children 5 to 10 years is 10 rupees\n",
    "For remaining all others above 10 years is 15 rupees\n",
    "\n",
    "if\n",
    "elif\n",
    "elif\n",
    "else"
   ]
  },
  {
   "cell_type": "code",
   "execution_count": 104,
   "metadata": {},
   "outputs": [
    {
     "name": "stdout",
     "output_type": "stream",
     "text": [
      "Entry Fee = 15 Rupees\n"
     ]
    }
   ],
   "source": [
    "childrenage = 11\n",
    "if childrenage <=4:\n",
    "    print (\"No Entry Fee\")\n",
    "elif childrenage ==5:\n",
    "    print(\"EntryFee = 10 Rupees\")\n",
    "elif childrenage ==6:\n",
    "    print(\"EntryFee = 10 Rupees\")\n",
    "elif childrenage ==7:\n",
    "    print(\"EntryFee = 10 Rupees\")\n",
    "elif childrenage ==8:\n",
    "    print(\"EntryFee = 10 Rupees\")\n",
    "elif childrenage ==9:\n",
    "    print(\"EntryFee = 10 Rupees\")\n",
    "elif childrenage ==10:\n",
    "    print(\"EntryFee = 10 Rupees\")\n",
    "else:\n",
    "    print (\"Entry Fee = 15 Rupees\")"
   ]
  },
  {
   "cell_type": "code",
   "execution_count": null,
   "metadata": {},
   "outputs": [],
   "source": []
  }
 ],
 "metadata": {
  "kernelspec": {
   "display_name": "Python 3",
   "language": "python",
   "name": "python3"
  },
  "language_info": {
   "codemirror_mode": {
    "name": "ipython",
    "version": 3
   },
   "file_extension": ".py",
   "mimetype": "text/x-python",
   "name": "python",
   "nbconvert_exporter": "python",
   "pygments_lexer": "ipython3",
   "version": "3.8.5"
  }
 },
 "nbformat": 4,
 "nbformat_minor": 4
}
